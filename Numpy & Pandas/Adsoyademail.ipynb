{
 "cells": [
  {
   "cell_type": "markdown",
   "metadata": {},
   "source": [
    "# Ad soyad email pandas"
   ]
  },
  {
   "cell_type": "code",
   "execution_count": 1,
   "metadata": {},
   "outputs": [],
   "source": [
    "people = {\n",
    "    'first_name': ['Aygun','Ayten','Arzu','Kenan',\"Ayxan\",'Natiq','Gunel','Fidan','Lale','Nergiz'],\n",
    "    'last_name': ['Qurbanli','Rzayeva','Qurbanova','Vezirov','Sadiqli','Demirov','Rzazade','Rustambayli','Nezirli','Rizvanova'],\n",
    "    'gender':['female','female','female','male','male','male','female','female','female','female'],\n",
    "    'email':['AygunQurbanli@gmail.com', 'AytenRzayeva@gmail.com', 'ArzuQurbanova@gmail.com', 'KenanVezirov@gmail.com', 'AyxanSadiqli@gmail.com', 'NatiqDemirov@gmail.com', 'GunelRzazade@gmail.com', 'FidanRustambayli@gmail.com', 'LaleNezirli@gmail.com', 'NergizRizvanova@gmail.com']\n",
    "}"
   ]
  },
  {
   "cell_type": "code",
   "execution_count": 2,
   "metadata": {},
   "outputs": [],
   "source": [
    "import pandas as pd\n",
    "df = pd.DataFrame(people)"
   ]
  },
  {
   "cell_type": "code",
   "execution_count": 3,
   "metadata": {},
   "outputs": [
    {
     "data": {
      "text/plain": [
       "0       AygunQurbanli@gmail.com\n",
       "1        AytenRzayeva@gmail.com\n",
       "2       ArzuQurbanova@gmail.com\n",
       "3        KenanVezirov@gmail.com\n",
       "4        AyxanSadiqli@gmail.com\n",
       "5        NatiqDemirov@gmail.com\n",
       "6        GunelRzazade@gmail.com\n",
       "7    FidanRustambayli@gmail.com\n",
       "Name: email, dtype: object"
      ]
     },
     "execution_count": 3,
     "metadata": {},
     "output_type": "execute_result"
    }
   ],
   "source": [
    "df.loc[:7,'email']"
   ]
  },
  {
   "cell_type": "code",
   "execution_count": 4,
   "metadata": {},
   "outputs": [
    {
     "data": {
      "text/html": [
       "<div>\n",
       "<style scoped>\n",
       "    .dataframe tbody tr th:only-of-type {\n",
       "        vertical-align: middle;\n",
       "    }\n",
       "\n",
       "    .dataframe tbody tr th {\n",
       "        vertical-align: top;\n",
       "    }\n",
       "\n",
       "    .dataframe thead th {\n",
       "        text-align: right;\n",
       "    }\n",
       "</style>\n",
       "<table border=\"1\" class=\"dataframe\">\n",
       "  <thead>\n",
       "    <tr style=\"text-align: right;\">\n",
       "      <th></th>\n",
       "      <th>first_name</th>\n",
       "      <th>last_name</th>\n",
       "      <th>gender</th>\n",
       "      <th>email</th>\n",
       "    </tr>\n",
       "  </thead>\n",
       "  <tbody>\n",
       "    <tr>\n",
       "      <th>0</th>\n",
       "      <td>Aygun</td>\n",
       "      <td>Qurbanli</td>\n",
       "      <td>female</td>\n",
       "      <td>AygunQurbanli@gmail.com</td>\n",
       "    </tr>\n",
       "    <tr>\n",
       "      <th>1</th>\n",
       "      <td>Ayten</td>\n",
       "      <td>Rzayeva</td>\n",
       "      <td>female</td>\n",
       "      <td>AytenRzayeva@gmail.com</td>\n",
       "    </tr>\n",
       "    <tr>\n",
       "      <th>2</th>\n",
       "      <td>Arzu</td>\n",
       "      <td>Qurbanova</td>\n",
       "      <td>female</td>\n",
       "      <td>ArzuQurbanova@gmail.com</td>\n",
       "    </tr>\n",
       "    <tr>\n",
       "      <th>3</th>\n",
       "      <td>Kenan</td>\n",
       "      <td>Vezirov</td>\n",
       "      <td>male</td>\n",
       "      <td>KenanVezirov@gmail.com</td>\n",
       "    </tr>\n",
       "    <tr>\n",
       "      <th>4</th>\n",
       "      <td>Ayxan</td>\n",
       "      <td>Sadiqli</td>\n",
       "      <td>male</td>\n",
       "      <td>AyxanSadiqli@gmail.com</td>\n",
       "    </tr>\n",
       "  </tbody>\n",
       "</table>\n",
       "</div>"
      ],
      "text/plain": [
       "  first_name  last_name  gender                    email\n",
       "0      Aygun   Qurbanli  female  AygunQurbanli@gmail.com\n",
       "1      Ayten    Rzayeva  female   AytenRzayeva@gmail.com\n",
       "2       Arzu  Qurbanova  female  ArzuQurbanova@gmail.com\n",
       "3      Kenan    Vezirov    male   KenanVezirov@gmail.com\n",
       "4      Ayxan    Sadiqli    male   AyxanSadiqli@gmail.com"
      ]
     },
     "execution_count": 4,
     "metadata": {},
     "output_type": "execute_result"
    }
   ],
   "source": [
    "df.head()"
   ]
  },
  {
   "cell_type": "code",
   "execution_count": 5,
   "metadata": {},
   "outputs": [
    {
     "data": {
      "text/plain": [
       "(10, 4)"
      ]
     },
     "execution_count": 5,
     "metadata": {},
     "output_type": "execute_result"
    }
   ],
   "source": [
    "df.shape"
   ]
  },
  {
   "cell_type": "code",
   "execution_count": 6,
   "metadata": {},
   "outputs": [],
   "source": [
    "pd.set_option('display.max_columns',2)"
   ]
  },
  {
   "cell_type": "code",
   "execution_count": 7,
   "metadata": {},
   "outputs": [
    {
     "data": {
      "text/html": [
       "<div>\n",
       "<style scoped>\n",
       "    .dataframe tbody tr th:only-of-type {\n",
       "        vertical-align: middle;\n",
       "    }\n",
       "\n",
       "    .dataframe tbody tr th {\n",
       "        vertical-align: top;\n",
       "    }\n",
       "\n",
       "    .dataframe thead th {\n",
       "        text-align: right;\n",
       "    }\n",
       "</style>\n",
       "<table border=\"1\" class=\"dataframe\">\n",
       "  <thead>\n",
       "    <tr style=\"text-align: right;\">\n",
       "      <th></th>\n",
       "      <th>first_name</th>\n",
       "      <th>...</th>\n",
       "      <th>email</th>\n",
       "    </tr>\n",
       "  </thead>\n",
       "  <tbody>\n",
       "    <tr>\n",
       "      <th>5</th>\n",
       "      <td>Natiq</td>\n",
       "      <td>...</td>\n",
       "      <td>NatiqDemirov@gmail.com</td>\n",
       "    </tr>\n",
       "    <tr>\n",
       "      <th>6</th>\n",
       "      <td>Gunel</td>\n",
       "      <td>...</td>\n",
       "      <td>GunelRzazade@gmail.com</td>\n",
       "    </tr>\n",
       "    <tr>\n",
       "      <th>7</th>\n",
       "      <td>Fidan</td>\n",
       "      <td>...</td>\n",
       "      <td>FidanRustambayli@gmail.com</td>\n",
       "    </tr>\n",
       "    <tr>\n",
       "      <th>8</th>\n",
       "      <td>Lale</td>\n",
       "      <td>...</td>\n",
       "      <td>LaleNezirli@gmail.com</td>\n",
       "    </tr>\n",
       "    <tr>\n",
       "      <th>9</th>\n",
       "      <td>Nergiz</td>\n",
       "      <td>...</td>\n",
       "      <td>NergizRizvanova@gmail.com</td>\n",
       "    </tr>\n",
       "  </tbody>\n",
       "</table>\n",
       "<p>5 rows × 4 columns</p>\n",
       "</div>"
      ],
      "text/plain": [
       "  first_name  ...                       email\n",
       "5      Natiq  ...      NatiqDemirov@gmail.com\n",
       "6      Gunel  ...      GunelRzazade@gmail.com\n",
       "7      Fidan  ...  FidanRustambayli@gmail.com\n",
       "8       Lale  ...       LaleNezirli@gmail.com\n",
       "9     Nergiz  ...   NergizRizvanova@gmail.com\n",
       "\n",
       "[5 rows x 4 columns]"
      ]
     },
     "execution_count": 7,
     "metadata": {},
     "output_type": "execute_result"
    }
   ],
   "source": [
    "df.tail()"
   ]
  },
  {
   "cell_type": "code",
   "execution_count": 8,
   "metadata": {
    "scrolled": true
   },
   "outputs": [
    {
     "data": {
      "text/plain": [
       "female    7\n",
       "male      3\n",
       "Name: gender, dtype: int64"
      ]
     },
     "execution_count": 8,
     "metadata": {},
     "output_type": "execute_result"
    }
   ],
   "source": [
    "df['gender'].value_counts()"
   ]
  },
  {
   "cell_type": "code",
   "execution_count": 9,
   "metadata": {},
   "outputs": [
    {
     "data": {
      "text/plain": [
       "0       Qurbanli\n",
       "1        Rzayeva\n",
       "2      Qurbanova\n",
       "6        Rzazade\n",
       "7    Rustambayli\n",
       "8        Nezirli\n",
       "9      Rizvanova\n",
       "Name: last_name, dtype: object"
      ]
     },
     "execution_count": 9,
     "metadata": {},
     "output_type": "execute_result"
    }
   ],
   "source": [
    "filt = (df['gender'] == 'female')\n",
    "df.loc[filt,'last_name']"
   ]
  },
  {
   "cell_type": "code",
   "execution_count": 10,
   "metadata": {},
   "outputs": [
    {
     "data": {
      "text/plain": [
       "first_name                       Arzu\n",
       "last_name                     Demirov\n",
       "gender                         female\n",
       "email         ArzuQurbanova@gmail.com\n",
       "dtype: object"
      ]
     },
     "execution_count": 10,
     "metadata": {},
     "output_type": "execute_result"
    }
   ],
   "source": [
    "df.apply(pd.Series.min)"
   ]
  },
  {
   "cell_type": "code",
   "execution_count": 14,
   "metadata": {},
   "outputs": [
    {
     "data": {
      "text/plain": [
       "2      Arzu\n",
       "0     Aygun\n",
       "1     Ayten\n",
       "4     Ayxan\n",
       "7     Fidan\n",
       "6     Gunel\n",
       "3     Kenan\n",
       "8      Lale\n",
       "5     Natiq\n",
       "9    Nergiz\n",
       "Name: first_name, dtype: object"
      ]
     },
     "execution_count": 14,
     "metadata": {},
     "output_type": "execute_result"
    }
   ],
   "source": [
    "df.loc[:]['first_name'].sort_values()"
   ]
  },
  {
   "cell_type": "code",
   "execution_count": null,
   "metadata": {},
   "outputs": [],
   "source": []
  }
 ],
 "metadata": {
  "kernelspec": {
   "display_name": "Python 3",
   "language": "python",
   "name": "python3"
  },
  "language_info": {
   "codemirror_mode": {
    "name": "ipython",
    "version": 3
   },
   "file_extension": ".py",
   "mimetype": "text/x-python",
   "name": "python",
   "nbconvert_exporter": "python",
   "pygments_lexer": "ipython3",
   "version": "3.8.3"
  }
 },
 "nbformat": 4,
 "nbformat_minor": 4
}
